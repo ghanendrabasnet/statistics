{
 "cells": [
  {
   "cell_type": "code",
   "execution_count": 4,
   "id": "61b16b0a",
   "metadata": {},
   "outputs": [
    {
     "name": "stdout",
     "output_type": "stream",
     "text": [
      "[30 32 31 29 35 34 33 31 28 29 27 25 26 28 29 31 33 34 36 35 32 31 30 29\n",
      " 28 30 32 33 35 34]\n"
     ]
    }
   ],
   "source": [
    "import numpy as np\n",
    "temp = np.array([30,32,31,29,35,34,33,31,28,29,27,25,26,28,29,31,33,34,36,35,32,31,30,29,28,30,32,33,35,34])\n",
    "print(temp)"
   ]
  },
  {
   "cell_type": "code",
   "execution_count": 11,
   "id": "9677d0e4",
   "metadata": {},
   "outputs": [
    {
     "name": "stdout",
     "output_type": "stream",
     "text": [
      "Average temperature of the month is: 31.0\n"
     ]
    }
   ],
   "source": [
    "average_temp = np.mean(temp)\n",
    "\n",
    "print(\"Average temperature of the month is:\", average_temp)"
   ]
  },
  {
   "cell_type": "code",
   "execution_count": 12,
   "id": "e85e5870",
   "metadata": {},
   "outputs": [
    {
     "name": "stdout",
     "output_type": "stream",
     "text": [
      "maximum temperature of the month is: 36\n"
     ]
    }
   ],
   "source": [
    "max_temp= np.max(temp)\n",
    "print(\"maximum temperature of the month is:\",max_temp)"
   ]
  },
  {
   "cell_type": "code",
   "execution_count": 13,
   "id": "e1ea75e3",
   "metadata": {},
   "outputs": [
    {
     "name": "stdout",
     "output_type": "stream",
     "text": [
      "minimum temperature of the month is: 25\n"
     ]
    }
   ],
   "source": [
    "min_temp= np.min(temp)\n",
    "print(\"minimum temperature of the month is:\",min_temp)"
   ]
  },
  {
   "cell_type": "code",
   "execution_count": 9,
   "id": "f41da547",
   "metadata": {},
   "outputs": [
    {
     "name": "stdout",
     "output_type": "stream",
     "text": [
      "10\n"
     ]
    }
   ],
   "source": [
    "below_30_days= np.sum(temp<30)\n",
    "print(below_30_days)"
   ]
  },
  {
   "cell_type": "code",
   "execution_count": 14,
   "id": "e4b3c393",
   "metadata": {},
   "outputs": [
    {
     "name": "stdout",
     "output_type": "stream",
     "text": [
      "[86.  89.6 87.8 84.2 95.  93.2 91.4 87.8 82.4 84.2 80.6 77.  78.8 82.4\n",
      " 84.2 87.8 91.4 93.2 96.8 95.  89.6 87.8 86.  84.2 82.4 86.  89.6 91.4\n",
      " 95.  93.2]\n"
     ]
    }
   ],
   "source": [
    "temp_fahrenheit= (temp*9/5) +32\n",
    "print(temp_fahrenheit)"
   ]
  },
  {
   "cell_type": "code",
   "execution_count": null,
   "id": "6e039862",
   "metadata": {},
   "outputs": [],
   "source": []
  }
 ],
 "metadata": {
  "kernelspec": {
   "display_name": "Python 3 (ipykernel)",
   "language": "python",
   "name": "python3"
  },
  "language_info": {
   "codemirror_mode": {
    "name": "ipython",
    "version": 3
   },
   "file_extension": ".py",
   "mimetype": "text/x-python",
   "name": "python",
   "nbconvert_exporter": "python",
   "pygments_lexer": "ipython3",
   "version": "3.9.13"
  }
 },
 "nbformat": 4,
 "nbformat_minor": 5
}
